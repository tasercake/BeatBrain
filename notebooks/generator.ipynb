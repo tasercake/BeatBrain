{
 "cells": [
  {
   "cell_type": "markdown",
   "metadata": {},
   "source": [
    "## Import Dependencies"
   ]
  },
  {
   "cell_type": "code",
   "execution_count": null,
   "metadata": {
    "pycharm": {
     "is_executing": false
    }
   },
   "outputs": [],
   "source": [
    "# misc\n",
    "import math\n",
    "import time\n",
    "from pathlib import Path\n",
    "\n",
    "# scientific\n",
    "import numpy as np\n",
    "import beatbrain\n",
    "from beatbrain import utils\n",
    "\n",
    "# visualization\n",
    "from IPython import display\n",
    "import seaborn as sns\n",
    "import matplotlib.pyplot as plt"
   ]
  },
  {
   "cell_type": "code",
   "execution_count": null,
   "metadata": {
    "pycharm": {
     "is_executing": false
    }
   },
   "outputs": [],
   "source": [
    "# Tensorflow\n",
    "import tensorflow as tf\n",
    "\n",
    "from tensorflow.keras import Model, Sequential, Input, optimizers\n",
    "from tensorflow.keras import backend as K\n",
    "from tensorflow.keras.utils import plot_model\n",
    "\n",
    "from tensorflow.keras.layers import (\n",
    "    Conv2D,\n",
    "    Conv2DTranspose,\n",
    "    MaxPool2D,\n",
    "    Dense,\n",
    "    Lambda,\n",
    "    Reshape,\n",
    "    Flatten,\n",
    "    Layer,\n",
    "    concatenate,\n",
    ")\n",
    "from tensorflow.keras.callbacks import (\n",
    "    Callback,\n",
    "    TensorBoard,\n",
    "    ReduceLROnPlateau,\n",
    "    EarlyStopping,\n",
    "    ModelCheckpoint,\n",
    "    TerminateOnNaN,\n",
    "    CSVLogger,\n",
    "    LambdaCallback,\n",
    ")\n",
    "\n",
    "physical_devices = tf.config.experimental.list_physical_devices('GPU')\n",
    "tf.config.experimental.set_memory_growth(physical_devices[0], True)"
   ]
  },
  {
   "cell_type": "code",
   "execution_count": null,
   "metadata": {
    "pycharm": {
     "is_executing": false
    }
   },
   "outputs": [],
   "source": [
    "sns.set()\n",
    "sns.set_style(\"white\")\n",
    "%matplotlib inline"
   ]
  },
  {
   "cell_type": "markdown",
   "metadata": {},
   "source": [
    "## Load Datasets"
   ]
  },
  {
   "cell_type": "code",
   "execution_count": null,
   "metadata": {
    "pycharm": {
     "is_executing": false
    }
   },
   "outputs": [],
   "source": [
    "# Input\n",
    "DATA_ROOT = Path(\"../data/fma/image\")\n",
    "IMAGE_DIMS = [512, 640, 1]\n",
    "BATCH_SIZE = 2"
   ]
  },
  {
   "cell_type": "code",
   "execution_count": null,
   "metadata": {
    "pycharm": {
     "is_executing": false
    }
   },
   "outputs": [],
   "source": [
    "train_dataset = utils.load_dataset(\n",
    "    DATA_ROOT / \"train\", batch_size=BATCH_SIZE, parallel=False\n",
    ")\n",
    "val_dataset = utils.load_dataset(\n",
    "    DATA_ROOT / \"val\", batch_size=BATCH_SIZE, parallel=False,\n",
    ")\n",
    "test_dataset = utils.load_dataset(\n",
    "    DATA_ROOT / \"test\", batch_size=1, parallel=False, shuffle_buffer=0,\n",
    ")"
   ]
  },
  {
   "cell_type": "markdown",
   "metadata": {},
   "source": [
    "## Define Model Architecture"
   ]
  },
  {
   "cell_type": "code",
   "execution_count": null,
   "metadata": {
    "pycharm": {
     "is_executing": false
    }
   },
   "outputs": [],
   "source": [
    "def build_cvae(\n",
    "    latent_dim,\n",
    "    input_shape,\n",
    "    start_filters=32,\n",
    "    num_conv=3,\n",
    "    num_inception=3,\n",
    "    num_deconv=3,\n",
    "    batch_size=1,\n",
    "    learning_rate=1e-4,\n",
    "):\n",
    "    def reparam(args):\n",
    "        z_mean, z_log_var = args\n",
    "        dim = tf.keras.backend.int_shape(z_mean)[1]\n",
    "        eps = tf.keras.backend.random_normal(shape=(batch_size, dim))\n",
    "        return eps * tf.exp(z_log_var * 0.5) + z_mean\n",
    "\n",
    "    encoder_input = Input(shape=input_shape, batch_size=batch_size, name=\"encoder_input\")\n",
    "    for i in range(num_conv):\n",
    "        e = Conv2D(\n",
    "            filters=start_filters * (2 ** i),\n",
    "            kernel_size=3,\n",
    "            strides=1,\n",
    "            padding=\"SAME\",\n",
    "            activation=\"relu\",\n",
    "        )(e if i else encoder_input)  # First conv layer gets called with `encoder_input`\n",
    "    e = MaxPool2D()(e)\n",
    "    for i in range(num_inception):\n",
    "        e = Inception2D(32)(e)\n",
    "        e = MaxPool2D()(e)\n",
    "    e = Flatten()(e)\n",
    "    e = Dense(latent_dim * 2)(e)\n",
    "    z_mean = Dense(latent_dim, name=\"z_mean\")(e)\n",
    "    z_log_var = Dense(latent_dim, name=\"z_log_var\")(e)\n",
    "    z = Lambda(reparam, output_shape=(latent_dim,), name=\"z\")(\n",
    "        [z_mean, z_log_var]\n",
    "    )\n",
    "\n",
    "    decoder_input_shape = [\n",
    "        batch_size,\n",
    "        input_shape[0] // 2 ** num_deconv,\n",
    "        input_shape[1] // 2 ** num_deconv,\n",
    "        input_shape[2],\n",
    "    ]  # shape: [?, freq, time, channels]\n",
    "    decoder_input = Input(shape=(latent_dim,), batch_size=batch_size, name=\"decoder_input\")\n",
    "    d = Dense(\n",
    "        decoder_input_shape[1] * decoder_input_shape[2] * decoder_input_shape[3],\n",
    "        activation=\"relu\",\n",
    "    )(decoder_input)\n",
    "    d = Reshape(\n",
    "        target_shape=(\n",
    "            decoder_input_shape[1],\n",
    "            decoder_input_shape[2],\n",
    "            decoder_input_shape[3],\n",
    "        )\n",
    "    )(d)\n",
    "    for i in range(num_deconv):\n",
    "        d = Conv2DTranspose(\n",
    "            filters=input_shape[0] // 2 ** i,\n",
    "            kernel_size=3,\n",
    "            strides=2,\n",
    "            padding=\"SAME\",\n",
    "            activation=\"relu\",\n",
    "        )(d)\n",
    "        print(d.shape)\n",
    "    decoder_output = Conv2DTranspose(\n",
    "        filters=1,\n",
    "        kernel_size=3,\n",
    "        strides=1,\n",
    "        padding=\"SAME\",\n",
    "        activation=\"sigmoid\",  # Changed this from RELU\n",
    "        name=\"decoder_output\",\n",
    "    )(d)\n",
    "\n",
    "    encoder = Model(encoder_input, [z_mean, z_log_var, z], name=\"encoder\")\n",
    "    decoder = Model(decoder_input, decoder_output, name=\"decoder\")\n",
    "    model_output = decoder(encoder(encoder_input)[2])\n",
    "    model = Model(encoder_input, model_output, name=\"vae\")\n",
    "\n",
    "    assert encoder_input.shape == model_output.shape\n",
    "    reconstruction_loss = tf.losses.mse(encoder_input, model_output)\n",
    "    reconstruction_loss = tf.reduce_sum(reconstruction_loss, axis=[1, 2])\n",
    "    logpz = log_normal_pdf(z, 0.0, 0.0)\n",
    "    logqz_x = log_normal_pdf(z, z_mean, z_log_var)\n",
    "    kl_loss = logqz_x - logpz\n",
    "    vae_loss = tf.reduce_mean(reconstruction_loss + kl_loss)\n",
    "\n",
    "    model.add_loss(vae_loss)\n",
    "    model.compile(optimizer=tf.keras.optimizers.Adam(learning_rate))\n",
    "    # model.compile(optimizer=tf.keras.optimizers.Adam(learning_rate), loss=lambda yt, yp: vae_loss)\n",
    "    return model, encoder, decoder\n",
    "\n",
    "\n",
    "class Inception2D(Layer):\n",
    "    def __init__(self, filters, *args, **kwargs):\n",
    "        self._filters = filters\n",
    "        self._args, self._kwargs = args, kwargs\n",
    "        super().__init__()\n",
    "\n",
    "    def build(self, input_shape):\n",
    "        filters = self._filters // 4\n",
    "        inputs = Input(shape=input_shape[1:])\n",
    "        conv1 = Conv2D(filters=filters, kernel_size=1, padding=\"SAME\")(inputs)\n",
    "\n",
    "        conv3 = Conv2D(filters=filters, kernel_size=1, padding=\"SAME\")(inputs)\n",
    "        conv3 = Conv2D(filters=filters, kernel_size=3, padding=\"SAME\")(conv3)\n",
    "\n",
    "        conv5 = Conv2D(filters=filters, kernel_size=1, padding=\"SAME\")(inputs)\n",
    "        conv5 = Conv2D(filters=filters, kernel_size=5, padding=\"SAME\")(conv5)\n",
    "\n",
    "        pool = MaxPool2D(pool_size=3, strides=1, padding=\"SAME\")(inputs)\n",
    "        pool = Conv2D(filters=filters, kernel_size=1, padding=\"SAME\")(pool)\n",
    "\n",
    "        concat = concatenate([conv1, conv3, conv5, pool], axis=-1)\n",
    "        self._model = Model(inputs, concat)\n",
    "        super().build(input_shape)\n",
    "\n",
    "    def call(self, x):\n",
    "        return self._model(x)\n",
    "\n",
    "    def compute_output_shape(self, input_shape):\n",
    "        return self._model.compute_output_shape(input_shape)\n",
    "    \n",
    "    def get_config(self):\n",
    "        config = super().get_config().copy()\n",
    "        config.update({\n",
    "            \"filters\": self._filters,\n",
    "        })\n",
    "        return config\n",
    "\n",
    "\n",
    "def log_normal_pdf(sample, mean, logvar, raxis=1):\n",
    "    log2pi = tf.math.log(2.0 * np.pi)\n",
    "    return tf.reduce_sum(\n",
    "        -0.5 * ((sample - mean) ** 2.0 * tf.exp(-logvar) + logvar + log2pi), axis=raxis\n",
    "    )\n",
    "\n",
    "\n",
    "@tf.function\n",
    "def sample(latent_dim, decoder, eps=None):\n",
    "    if eps is None:\n",
    "        eps = tf.random.normal(shape=(100, latent_dim))\n",
    "    return decode(decoder, eps, apply_sigmoid=True)\n",
    "\n",
    "\n",
    "def encode(encoder, x):\n",
    "    inference = encoder(x)\n",
    "    mean, logvar = tf.split(inference, num_or_size_splits=2, axis=1)\n",
    "    return mean, logvar\n",
    "\n",
    "\n",
    "def reparameterize(mean, logvar):\n",
    "    eps = tf.random.normal(shape=mean.shape)\n",
    "    return eps * tf.exp(logvar * 0.5) + mean\n",
    "\n",
    "\n",
    "def decode(decoder, z, apply_sigmoid=False):\n",
    "    logits = decoder(z)\n",
    "    if apply_sigmoid:\n",
    "        probs = tf.sigmoid(logits)\n",
    "        return probs\n",
    "    return logits"
   ]
  },
  {
   "cell_type": "markdown",
   "metadata": {},
   "source": [
    "## Hyperparameters, Model Output, and Logging"
   ]
  },
  {
   "cell_type": "code",
   "execution_count": null,
   "metadata": {
    "pycharm": {
     "is_executing": false
    }
   },
   "outputs": [],
   "source": [
    "# Hyperparameters\n",
    "LATENT_DIM = 256\n",
    "EPOCHS = 50\n",
    "NUM_CONV = 2\n",
    "NUM_INCEPTION = 3\n",
    "NUM_DECONV = 5\n",
    "LEARNING_RATE = 1e-5\n",
    "\n",
    "# Outputs\n",
    "MODEL_NAME = \"cvae_2d_inception\"\n",
    "MODEL_DIR = Path(\"../models\")\n",
    "MODEL_DIR.mkdir(exist_ok=True, parents=True)\n",
    "LOG_DIR = Path(\"../logs\") / MODEL_NAME\n",
    "LOG_DIR.mkdir(exist_ok=True, parents=True)\n",
    "LOG_FREQUENCY = 200"
   ]
  },
  {
   "cell_type": "markdown",
   "metadata": {},
   "source": [
    "## Define Training Callbacks"
   ]
  },
  {
   "cell_type": "code",
   "execution_count": null,
   "metadata": {
    "pycharm": {
     "is_executing": false
    }
   },
   "outputs": [],
   "source": [
    "class VisualizeCallback(Callback):\n",
    "    def __init__(\n",
    "        self,\n",
    "        log_dir,\n",
    "        latent_dim,\n",
    "        validation_data,\n",
    "        n_examples=4,\n",
    "        random_vectors=None,\n",
    "        heatmap=True,\n",
    "        frequency=\"epoch\",\n",
    "        verbose=False,\n",
    "    ):\n",
    "        self.log_dir = Path(log_dir)\n",
    "        self.latent_dim = latent_dim\n",
    "        self.n_examples = n_examples\n",
    "        self.cmap = \"magma\" if heatmap else \"Greys\"\n",
    "        self.frequency = frequency\n",
    "        self.verbose = verbose\n",
    "        self.total_batch = 0\n",
    "        self.random_vectors = random_vectors or tf.random.normal(\n",
    "            shape=[n_examples, latent_dim]\n",
    "        )\n",
    "        self.fig = plt.figure()\n",
    "        self.samples = list(validation_data.unbatch().take(self.n_examples))\n",
    "\n",
    "        self.recon_raw = self.log_dir / \"raw\" / \"reconstructed\"\n",
    "        self.recon_png = self.log_dir / \"png\" / \"reconstructed\"\n",
    "        self.gen_raw = self.log_dir / \"raw\" / \"generated\"\n",
    "        self.gen_png = self.log_dir / \"png\" / \"generated\"\n",
    "\n",
    "    def on_train_begin(self, logs=None):\n",
    "        self.recon_raw.mkdir(exist_ok=True, parents=True)\n",
    "        self.recon_png.mkdir(exist_ok=True, parents=True)\n",
    "        self.gen_raw.mkdir(exist_ok=True, parents=True)\n",
    "        self.gen_png.mkdir(exist_ok=True, parents=True)\n",
    "\n",
    "    def _visualize_reconstruction(self, batch=None, epoch=None):\n",
    "        assert (batch is not None) or (epoch is not None)\n",
    "        fig = plt.figure(self.fig.number)\n",
    "        fig.set_size_inches(9, 4)\n",
    "        for i, sample in enumerate(self.samples):\n",
    "            fig.add_subplot(121)\n",
    "            sample = sample[None, :]\n",
    "            beatbrain.display.show_spec(\n",
    "                utils.denormalize_spectrogram(sample[0, ..., 0].numpy()),\n",
    "                title=\"Original\",\n",
    "                cmap=self.cmap,\n",
    "            )\n",
    "            fig.add_subplot(122)\n",
    "            reconstructed = self.model(sample)\n",
    "            beatbrain.display.show_spec(\n",
    "                utils.denormalize_spectrogram(reconstructed[0, ..., 0].numpy()),\n",
    "                title=\"Reconstructed\",\n",
    "                cmap=self.cmap,\n",
    "            )\n",
    "            fig.tight_layout()\n",
    "            title = f\"recon_{i + 1}@{'epoch' if epoch else 'batch'}_{epoch or batch}\"\n",
    "            fig.suptitle(title)\n",
    "            fig.savefig(self.recon_png / f\"{title}.png\")\n",
    "            utils.save_image(\n",
    "                reconstructed[0, ..., 0], self.recon_raw / f\"{title}.exr\",\n",
    "            )\n",
    "            fig.clear()\n",
    "\n",
    "    def _visualize_generation(self, batch=None, epoch=None):\n",
    "        assert (batch is not None) or (epoch is not None)\n",
    "        decoder = self.model.get_layer(\"decoder\")\n",
    "        generated = decoder(self.random_vectors)\n",
    "        fig = plt.figure(self.fig.number)\n",
    "        fig.set_size_inches(5, 4)\n",
    "        for i, gen in enumerate(generated):\n",
    "            gen = gen[None, :]\n",
    "            title = f\"gen_{i + 1}@{'epoch' if epoch else 'batch'}_{epoch or batch}\"\n",
    "            beatbrain.display.show_spec(\n",
    "                utils.denormalize_spectrogram(gen[0, ..., 0].numpy()),\n",
    "                title=title,\n",
    "                cmap=self.cmap,\n",
    "            )\n",
    "            fig.tight_layout()\n",
    "            fig.savefig(self.gen_png / f\"{title}.png\")\n",
    "            utils.save_image(gen[0, ..., 0], self.gen_raw / f\"{title}.exr\")\n",
    "            fig.clear()\n",
    "\n",
    "    def on_epoch_begin(self, epoch, logs=None):\n",
    "        if self.frequency == \"epoch\":\n",
    "            self._visualize_reconstruction(epoch=epoch)\n",
    "            self._visualize_generation(epoch=epoch)\n",
    "\n",
    "    def on_train_batch_begin(self, batch, logs=None):\n",
    "        if isinstance(self.frequency, int) and (self.total_batch % self.frequency == 0):\n",
    "            self._visualize_reconstruction(batch=self.total_batch)\n",
    "            self._visualize_generation(batch=self.total_batch)\n",
    "\n",
    "    def on_train_batch_end(self, batch, logs=None):\n",
    "        self.total_batch += 1"
   ]
  },
  {
   "cell_type": "code",
   "execution_count": null,
   "metadata": {
    "pycharm": {
     "is_executing": false
    }
   },
   "outputs": [],
   "source": [
    "tensorboard = TensorBoard(log_dir=LOG_DIR, update_freq=LOG_FREQUENCY, profile_batch=0,)\n",
    "reduce_lr = ReduceLROnPlateau(patience=2, factor=0.1, min_lr=1e-6, verbose=1,)\n",
    "early_stop = EarlyStopping(patience=5, verbose=1,)\n",
    "model_saver = ModelCheckpoint(\n",
    "    str(MODEL_DIR / MODEL_NAME), save_best_only=True, verbose=1,\n",
    ")\n",
    "visualizer = VisualizeCallback(\n",
    "    LOG_DIR, LATENT_DIM, val_dataset, frequency=LOG_FREQUENCY,\n",
    ")"
   ]
  },
  {
   "cell_type": "markdown",
   "metadata": {},
   "source": [
    "## Instantiate and Train Model"
   ]
  },
  {
   "cell_type": "markdown",
   "metadata": {},
   "source": [
    "### Train on FMA"
   ]
  },
  {
   "cell_type": "code",
   "execution_count": null,
   "metadata": {
    "pycharm": {
     "is_executing": false
    },
    "scrolled": true
   },
   "outputs": [],
   "source": [
    "model, encoder, decoder = build_cvae(\n",
    "    LATENT_DIM,\n",
    "    IMAGE_DIMS,\n",
    "    num_conv=NUM_CONV,\n",
    "    num_inception=NUM_INCEPTION,\n",
    "    num_deconv=NUM_DECONV,\n",
    "    batch_size=BATCH_SIZE,\n",
    "    learning_rate=LEARNING_RATE,\n",
    ")\n",
    "model.summary()\n",
    "encoder.summary()\n",
    "decoder.summary()\n",
    "plot_model(model, to_file=str(LOG_DIR / \"model.png\"), expand_nested=True, show_shapes=True)"
   ]
  },
  {
   "cell_type": "code",
   "execution_count": null,
   "metadata": {
    "scrolled": true
   },
   "outputs": [],
   "source": [
    "# Train model\n",
    "model.fit_generator(\n",
    "    train_dataset,\n",
    "    epochs=EPOCHS,\n",
    "    callbacks=[tensorboard, model_saver, reduce_lr, visualizer,],\n",
    "    validation_data=val_dataset,\n",
    ")\n",
    "# OR - Overfit model on a single sample\n",
    "# single_sample = tf.data.Dataset.from_tensor_slices(list(train_dataset.take(1)))\n",
    "# model.fit_generator(\n",
    "#     single_sample,\n",
    "#     epochs=400,\n",
    "#     callbacks=[VisualizeCallback(LOG_DIR, LATENT_DIM, single_sample, frequency=\"epoch\"),],\n",
    "#     validation_data=single_sample,\n",
    "# )"
   ]
  },
  {
   "cell_type": "markdown",
   "metadata": {},
   "source": [
    "### Train on MNIST"
   ]
  },
  {
   "cell_type": "code",
   "execution_count": null,
   "metadata": {
    "scrolled": false
   },
   "outputs": [],
   "source": [
    "# Load MNIST data\n",
    "(train_images, _), (val_images, _) = tf.keras.datasets.mnist.load_data()\n",
    "train_images = train_images.reshape(train_images.shape[0], 28, 28, 1).astype(\"float32\")\n",
    "val_images = val_images.reshape(val_images.shape[0], 28, 28, 1).astype(\"float32\")\n",
    "train_images /= 255.0\n",
    "val_images /= 255.0\n",
    "mnist_train = (\n",
    "    tf.data.Dataset.from_tensor_slices(train_images).shuffle(50000).batch(BATCH_SIZE)\n",
    ")\n",
    "mnist_val = (\n",
    "    tf.data.Dataset.from_tensor_slices(val_images).shuffle(50000).batch(BATCH_SIZE)\n",
    ")\n",
    "\n",
    "# Callbacks\n",
    "visualizer = VisualizeCallback(LOG_DIR, LATENT_DIM, mnist_val, frequency=100)\n",
    "\n",
    "# Define and train model\n",
    "model, encoder, decoder = build_cvae(\n",
    "    LATENT_DIM,\n",
    "    (28, 28, 1),\n",
    "    num_conv=1,\n",
    "    batch_size=BATCH_SIZE,\n",
    "    learning_rate=LEARNING_RATE,\n",
    ")\n",
    "model.fit_generator(\n",
    "    mnist_train,\n",
    "    epochs=200,\n",
    "    callbacks=[tensorboard, visualizer,],\n",
    "    validation_data=mnist_val,\n",
    ")"
   ]
  },
  {
   "cell_type": "markdown",
   "metadata": {},
   "source": [
    "## Visualize Reconstruction"
   ]
  },
  {
   "cell_type": "code",
   "execution_count": null,
   "metadata": {},
   "outputs": [],
   "source": [
    "# Optional - reload model from disk\n",
    "model = tf.keras.models.load_model(f\"{MODEL_DIR / MODEL_NAME}\")\n",
    "# model = tf.keras.models.load_model(f\"../models/cvae.h5\")"
   ]
  },
  {
   "cell_type": "code",
   "execution_count": null,
   "metadata": {},
   "outputs": [],
   "source": [
    "sample = next(iter(test_dataset.take(1)))\n",
    "reconstructed = model.predict(sample)\n",
    "beatbrain.display.show_spec(\n",
    "    utils.denormalize_spectrogram(sample[0, ..., 0].numpy()), title=\"Original\"\n",
    ")\n",
    "plt.show()\n",
    "beatbrain.display.show_spec(\n",
    "    utils.denormalize_spectrogram(model(sample)[0, ..., 0].numpy()),\n",
    "    title=\"Reconstructed\",\n",
    ")\n",
    "plt.show()"
   ]
  },
  {
   "cell_type": "markdown",
   "metadata": {},
   "source": [
    "## Visualize Unconditioned Generation"
   ]
  },
  {
   "cell_type": "code",
   "execution_count": null,
   "metadata": {},
   "outputs": [],
   "source": [
    "EXAMPLES_TO_GENERATE = 16\n",
    "INTERPOLATION_POINTS = 9\n",
    "OUTPUT_DIR = Path(\"../data/output/images\")\n",
    "\n",
    "# keeping the random vector constant for generation (prediction) so\n",
    "# it will be easier to see the improvement.\n",
    "random_vector_for_generation = tf.random.normal(\n",
    "    shape=[EXAMPLES_TO_GENERATE, LATENT_DIM]\n",
    ")"
   ]
  },
  {
   "cell_type": "code",
   "execution_count": null,
   "metadata": {},
   "outputs": [],
   "source": [
    "sample = next(train_dataset.take(1))\n",
    "beatbrain.display.show_spec(utils.denormalize_spectrogram(sample[0, ..., 0]), title=\"Orginal\")\n",
    "plt.show()\n",
    "sns.distplot(train_dataset.flatten())\n",
    "plt.show()"
   ]
  },
  {
   "cell_type": "code",
   "execution_count": null,
   "metadata": {},
   "outputs": [],
   "source": [
    "prediction = model(train_dataset)\n",
    "beatbrain.display.show_spec(utils.denormalize_spectrogram(model(sample)[0, ..., 0].numpy()), title=\"Predicted\")\n",
    "plt.show()\n",
    "sns.distplot(model(train_dataset).numpy().flatten())"
   ]
  },
  {
   "cell_type": "code",
   "execution_count": null,
   "metadata": {},
   "outputs": [],
   "source": [
    "N_FFT = 4096\n",
    "HOP_LENGTH = 256\n",
    "SAMPLE_RATE = 32768"
   ]
  },
  {
   "cell_type": "code",
   "execution_count": null,
   "metadata": {},
   "outputs": [],
   "source": [
    "sample_recon = utils.spectrogram_to_audio(sample[0, ..., 0], denormalize=True, n_fft=N_FFT, hop_length=HOP_LENGTH, sr=SAMPLE_RATE)"
   ]
  },
  {
   "cell_type": "code",
   "execution_count": null,
   "metadata": {},
   "outputs": [],
   "source": [
    "display.Audio(sample_recon, rate=SAMPLE_RATE)"
   ]
  },
  {
   "cell_type": "code",
   "execution_count": null,
   "metadata": {},
   "outputs": [],
   "source": [
    "prediction_recon = utils.spectrogram_to_audio(prediction[0, ..., 0], denormalize=True, n_fft=N_FFT, hop_length=HOP_LENGTH, sr=SAMPLE_RATE)"
   ]
  },
  {
   "cell_type": "code",
   "execution_count": null,
   "metadata": {},
   "outputs": [],
   "source": [
    "display.Audio(prediction_recon, rate=SAMPLE_RATE)"
   ]
  },
  {
   "cell_type": "code",
   "execution_count": null,
   "metadata": {},
   "outputs": [],
   "source": [
    "def generate_and_save_images(decoder, epoch, test_input):\n",
    "    num_plots = math.ceil(math.sqrt(len(test_input)))\n",
    "    predictions = sample(LATENT_DIM, decoder, eps=test_input)\n",
    "    fig = plt.figure(figsize=(12, 12))\n",
    "    fig.subplots_adjust(hspace=0, wspace=0)\n",
    "    for i, pred in enumerate(predictions):\n",
    "        plt.subplot(num_plots, num_plots, i + 1)\n",
    "        plt.imshow(pred[:, :, 0], cmap='gray', vmin=0, vmax=1)\n",
    "        plt.axis('off')\n",
    "        output_dir = os.path.join(OUTPUT_DIR, 'progress', str(i))\n",
    "        os.makedirs(output_dir, exist_ok=True)\n",
    "        image = Image.fromarray(pred[:, :, 0].numpy(), mode='F')\n",
    "#         image.save(os.path.join(output_dir, f\"epoch_{epoch}.tiff\"))\n",
    "        image.save(os.path.join(output_dir, f\"spec.tiff\"))\n",
    "    plt.show()"
   ]
  },
  {
   "cell_type": "code",
   "execution_count": null,
   "metadata": {
    "scrolled": true
   },
   "outputs": [],
   "source": [
    "from time import time\n",
    "import librosa\n",
    "\n",
    "SR = 32768\n",
    "N_FFT = 4096\n",
    "N_MELS = 512\n",
    "HOP_LENGTH = 256\n",
    "DURATION = 5\n",
    "A = \"../data/fma/audio/000002.mp3\"\n",
    "B = \"../data/fma/audio/000005.mp3\"\n",
    "\n",
    "interp_dir = Path(f\"interpolation/{int(time())}\")\n",
    "interp_dir.mkdir(exist_ok=True, parents=True)\n",
    "\n",
    "x, _ = librosa.load(A, sr=SR, duration=DURATION)\n",
    "y, _ = librosa.load(B, sr=SR, duration=DURATION)\n",
    "x = librosa.feature.melspectrogram(x, sr=SR, n_fft=N_FFT, hop_length=HOP_LENGTH, n_mels=N_MELS)\n",
    "y = librosa.feature.melspectrogram(y, sr=SR, n_fft=N_FFT, hop_length=HOP_LENGTH, n_mels=N_MELS)\n",
    "x, y = x[0, None], y[None, :, None]\n",
    "print(x.shape)\n",
    "x_mean, x_logvar = model.encode(x)\n",
    "y_mean, y_logvar = model.encode(y)\n",
    "\n",
    "# Reconstruction\n",
    "fig = plt.figure(figsize=(12, 6))\n",
    "plt.subplot(121)\n",
    "plt.imshow(x[0, ..., 0], cmap='gray', vmin=0, vmax=1)\n",
    "plt.axis('off')\n",
    "plt.subplot(122)\n",
    "x_recon = model.sample(model.reparameterize(x_mean, x_logvar))\n",
    "plt.imshow(x_recon[0, ..., 0], cmap='gray', vmin=0, vmax=1)\n",
    "plt.axis('off')\n",
    "plt.show()\n",
    "\n",
    "# Interpolation\n",
    "fractions = np.linspace(0, 1, num=INTERPOLATION_POINTS)[:, None]\n",
    "means = (x_mean * (1 - fractions)) + (y_mean * fractions)  # Interpolated latent vectors\n",
    "logvars = (x_logvar * (1 - fractions)) + (y_logvar * fractions)  # Interpolated latent vectors\n",
    "points = model.reparameterize(means, logvars)\n",
    "interpolated = model.sample(points)\n",
    "\n",
    "num_plots = math.ceil(math.sqrt(INTERPOLATION_POINTS))\n",
    "fig = plt.figure(figsize=(12, 12))\n",
    "fig.subplots_adjust(hspace=0, wspace=0.03)\n",
    "for i, pred in enumerate(interpolated):\n",
    "    Image.fromarray(pred[:, :, 0].numpy(), mode='F').save(interp_dir.joinpath(f'{i}.tiff'))\n",
    "    plt.subplot(num_plots, num_plots, i + 1)\n",
    "    if i == 0:\n",
    "        Image.fromarray(x[0, :, :, 0].numpy(), mode='F').save(interp_dir.joinpath(f'a.tiff'))\n",
    "        plt.imshow(x[0, ..., 0], cmap='gray', vmin=0, vmax=1)\n",
    "    elif i == INTERPOLATION_POINTS - 1:\n",
    "        Image.fromarray(y[0, :, :, 0].numpy(), mode='F').save(interp_dir.joinpath(f'b.tiff'))\n",
    "        plt.imshow(y[0, ..., 0], cmap='gray', vmin=0, vmax=1)\n",
    "    else:\n",
    "        plt.imshow(pred[:, :, 0], cmap='gray', vmin=0, vmax=1)\n",
    "    plt.axis('off')\n",
    "\n",
    "plt.savefig(interp_dir.joinpath('interpolation.png'), bbox_inches='tight')"
   ]
  }
 ],
 "metadata": {
  "kernelspec": {
   "display_name": "Python 3",
   "language": "python",
   "name": "python3"
  },
  "language_info": {
   "codemirror_mode": {
    "name": "ipython",
    "version": 3
   },
   "file_extension": ".py",
   "mimetype": "text/x-python",
   "name": "python",
   "nbconvert_exporter": "python",
   "pygments_lexer": "ipython3",
   "version": "3.7.5"
  }
 },
 "nbformat": 4,
 "nbformat_minor": 4
}
