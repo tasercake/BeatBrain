{
 "cells": [
  {
   "cell_type": "code",
   "execution_count": 1,
   "metadata": {},
   "outputs": [],
   "source": [
    "%load_ext autoreload\n",
    "%autoreload 2"
   ]
  },
  {
   "cell_type": "code",
   "execution_count": 2,
   "metadata": {},
   "outputs": [],
   "source": [
    "import matplotlib\n",
    "import matplotlib.pyplot as plt\n",
    "import seaborn as sns\n",
    "\n",
    "from tqdm.auto import tqdm\n",
    "import numpy as np\n",
    "import librosa\n",
    "import torch\n",
    "import torch.nn as nn\n",
    "import torch.nn.functional as F\n",
    "from torch.utils.data import DataLoader, Subset\n",
    "from nnAudio import Spectrogram\n",
    "\n",
    "from beatbrain.datasets.audio import AudioClipDataset\n",
    "\n",
    "import optuna"
   ]
  },
  {
   "cell_type": "code",
   "execution_count": 3,
   "metadata": {},
   "outputs": [],
   "source": [
    "AUDIO_PATH = \"../data/fma/wav\"\n",
    "SR = 22050\n",
    "MAX_SEGMENT_LENGTH=10\n",
    "N_FFT = 2048\n",
    "HOP_LENGTH = N_FFT // 8\n",
    "N_MELS = N_FFT // 8\n",
    "DEVICE = \"cuda\" if torch.cuda.is_available() else \"cpu\"\n",
    "BATCH_SIZE = 128\n",
    "MAX_ITEMS = 2048\n",
    "eps = 1e-12"
   ]
  },
  {
   "cell_type": "code",
   "execution_count": 4,
   "metadata": {},
   "outputs": [],
   "source": [
    "np.random.seed(42)\n",
    "dataset = AudioClipDataset(AUDIO_PATH, sample_rate=SR, max_segment_length=MAX_SEGMENT_LENGTH)\n",
    "dataset = Subset(dataset, np.random.choice(len(dataset), size=min(len(dataset), MAX_ITEMS), replace=False))\n",
    "dataloader = DataLoader(dataset, batch_size=BATCH_SIZE, pin_memory=True, shuffle=False, num_workers=0)"
   ]
  },
  {
   "cell_type": "code",
   "execution_count": 5,
   "metadata": {},
   "outputs": [],
   "source": [
    "# study = optuna.create_study(storage=\"sqlite:///optuna.db\")\n",
    "study = optuna.load_study(\"no-name-ee92733b-3897-4030-bb07-3c8b4c49937d\", storage=\"sqlite:///optuna.db\")"
   ]
  },
  {
   "cell_type": "code",
   "execution_count": null,
   "metadata": {},
   "outputs": [],
   "source": [
    "def objective(trial):\n",
    "    lr = trial.suggest_loguniform(\"lr\", 1e-3, 1e7)\n",
    "    momentum = trial.suggest_categorical(\"momentum\", [0, 0.9])\n",
    "    loss_threshold = trial.suggest_loguniform(\"loss_threshold\", 1e-10, 1e-2)\n",
    "    grad_threshold = trial.suggest_loguniform(\"grad_threshold\", 1e-11, 1e-3)\n",
    "    random_start = trial.suggest_categorical(\"random_start\", [True, False])\n",
    "\n",
    "    print(dict(\n",
    "        lr=lr,\n",
    "        momentum=momentum,\n",
    "        loss_threshold=loss_threshold,\n",
    "        grad_threshold=grad_threshold,\n",
    "        random_start=random_start,\n",
    "    ))\n",
    "\n",
    "    to_stft = Spectrogram.STFT(N_FFT, hop_length=HOP_LENGTH, sr=SR, output_format=\"Magnitude\", device=DEVICE, verbose=False)\n",
    "    to_mel = Spectrogram.MelSpectrogram(n_fft=N_FFT, hop_length=HOP_LENGTH, n_mels=N_MELS, sr=SR, device=DEVICE, verbose=False)\n",
    "\n",
    "    loss = 0\n",
    "    for i, (audio, sr) in enumerate(tqdm(dataloader)):\n",
    "        audio = audio.to(DEVICE)\n",
    "        stft = to_stft(audio)\n",
    "        mel = to_mel(audio)\n",
    "        try:\n",
    "            recon_stft, pred_mel, losses = to_mel.to_stft(mel, loss_threshold=loss_threshold, grad_threshold=grad_threshold, sgd_kwargs=dict(lr=lr, momentum=momentum), return_extras=True)\n",
    "        except OverflowError:\n",
    "            print(\"Overflow detected!\")\n",
    "            raise optuna.TrialPruned()\n",
    "        if losses[-1] > losses[0]:\n",
    "            print(\"Divergence detected!\")\n",
    "            raise optuna.TrialPruned()\n",
    "        loss += (recon_stft - stft).pow(2).mean().item()\n",
    "        trial.report(loss, i)\n",
    "        if trial.should_prune():\n",
    "            raise optuna.TrialPruned()\n",
    "    return loss / len(dataloader.dataset)\n",
    "\n",
    "\n",
    "study.optimize(objective)"
   ]
  },
  {
   "cell_type": "code",
   "execution_count": 6,
   "metadata": {},
   "outputs": [
    {
     "data": {
      "text/plain": [
       "{'grad_threshold': 0.0004775416410927695,\n",
       " 'loss_threshold': 0.007012997184047137,\n",
       " 'lr': 101170.83388141652,\n",
       " 'momentum': 0.9,\n",
       " 'random_start': True}"
      ]
     },
     "execution_count": 6,
     "metadata": {},
     "output_type": "execute_result"
    }
   ],
   "source": [
    "study.best_params"
   ]
  },
  {
   "cell_type": "code",
   "execution_count": null,
   "metadata": {},
   "outputs": [],
   "source": [
    "optuna.visualization.plot_parallel_coordinate(study).update_layout(height=1000).show()\n",
    "optuna.visualization.plot_optimization_history(study).update_layout(height=1000).show()\n",
    "optuna.visualization.plot_slice(study).update_layout(height=1000).show()\n",
    "optuna.visualization.plot_contour(study).update_layout(height=1000).show()"
   ]
  }
 ],
 "metadata": {
  "kernelspec": {
   "display_name": "Python 3",
   "language": "python",
   "name": "python3"
  },
  "language_info": {
   "codemirror_mode": {
    "name": "ipython",
    "version": 3
   },
   "file_extension": ".py",
   "mimetype": "text/x-python",
   "name": "python",
   "nbconvert_exporter": "python",
   "pygments_lexer": "ipython3",
   "version": "3.8.5"
  }
 },
 "nbformat": 4,
 "nbformat_minor": 4
}
